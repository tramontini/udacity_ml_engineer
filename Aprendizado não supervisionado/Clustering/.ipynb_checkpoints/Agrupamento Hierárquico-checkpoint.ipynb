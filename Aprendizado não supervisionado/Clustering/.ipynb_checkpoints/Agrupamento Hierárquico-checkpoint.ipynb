{
 "cells": [
  {
   "cell_type": "code",
   "execution_count": 2,
   "metadata": {},
   "outputs": [],
   "source": [
    "from sklearn import datasets, cluster"
   ]
  },
  {
   "cell_type": "code",
   "execution_count": 3,
   "metadata": {},
   "outputs": [],
   "source": [
    "X  = datasets.load_iris().data[:10]"
   ]
  },
  {
   "cell_type": "code",
   "execution_count": 4,
   "metadata": {},
   "outputs": [],
   "source": [
    "# Usando método Ward\n",
    "clust = cluster.AgglomerativeClustering(n_clusters=3, linkage=\"ward\")"
   ]
  },
  {
   "cell_type": "code",
   "execution_count": 5,
   "metadata": {},
   "outputs": [],
   "source": [
    "labels = clust.fit_predict(X)"
   ]
  },
  {
   "cell_type": "code",
   "execution_count": 6,
   "metadata": {},
   "outputs": [
    {
     "data": {
      "text/plain": [
       "array([1, 0, 0, 0, 1, 2, 0, 1, 0, 0])"
      ]
     },
     "execution_count": 6,
     "metadata": {},
     "output_type": "execute_result"
    }
   ],
   "source": [
    "labels"
   ]
  },
  {
   "cell_type": "markdown",
   "metadata": {},
   "source": [
    "# Desenhando dendograma"
   ]
  },
  {
   "cell_type": "code",
   "execution_count": 9,
   "metadata": {},
   "outputs": [],
   "source": [
    "from scipy.cluster.hierarchy import dendrogram, ward, single\n",
    "from sklearn import datasets\n",
    "import matplotlib.pyplot as plt\n"
   ]
  },
  {
   "cell_type": "code",
   "execution_count": 10,
   "metadata": {},
   "outputs": [],
   "source": [
    "X = datasets.load_iris().data[:10]"
   ]
  },
  {
   "cell_type": "code",
   "execution_count": 11,
   "metadata": {},
   "outputs": [],
   "source": [
    "linkage_matrix = ward(X)"
   ]
  },
  {
   "cell_type": "code",
   "execution_count": 13,
   "metadata": {},
   "outputs": [
    {
     "data": {
      "text/plain": [
       "{'color_list': ['g', 'g', 'g', 'g', 'g', 'r', 'r', 'r', 'b'],\n",
       " 'dcoord': [[0.0, 0.17320508075688784, 0.17320508075688784, 0.0],\n",
       "  [0.0, 0.24494897427831802, 0.24494897427831802, 0.0],\n",
       "  [0.0, 0.3162277660168378, 0.3162277660168378, 0.24494897427831802],\n",
       "  [0.0, 0.4999999999999998, 0.4999999999999998, 0.3162277660168378],\n",
       "  [0.17320508075688784,\n",
       "   0.5744562646538034,\n",
       "   0.5744562646538034,\n",
       "   0.4999999999999998],\n",
       "  [0.0, 0.1414213562373093, 0.1414213562373093, 0.0],\n",
       "  [0.0, 0.2160246899469288, 0.2160246899469288, 0.1414213562373093],\n",
       "  [0.0, 0.7799572637865063, 0.7799572637865063, 0.2160246899469288],\n",
       "  [0.5744562646538034,\n",
       "   1.450172403543799,\n",
       "   1.450172403543799,\n",
       "   0.7799572637865063]],\n",
       " 'icoord': [[5.0, 5.0, 15.0, 15.0],\n",
       "  [45.0, 45.0, 55.0, 55.0],\n",
       "  [35.0, 35.0, 50.0, 50.0],\n",
       "  [25.0, 25.0, 42.5, 42.5],\n",
       "  [10.0, 10.0, 33.75, 33.75],\n",
       "  [85.0, 85.0, 95.0, 95.0],\n",
       "  [75.0, 75.0, 90.0, 90.0],\n",
       "  [65.0, 65.0, 82.5, 82.5],\n",
       "  [21.875, 21.875, 73.75, 73.75]],\n",
       " 'ivl': ['1', '9', '8', '6', '2', '3', '5', '7', '0', '4'],\n",
       " 'leaves': [1, 9, 8, 6, 2, 3, 5, 7, 0, 4]}"
      ]
     },
     "execution_count": 13,
     "metadata": {},
     "output_type": "execute_result"
    },
    {
     "data": {
      "image/png": "[encoded data removed]",
      "text/plain": [
       "<matplotlib.figure.Figure at 0x7f0696629588>"
      ]
     },
     "metadata": {},
     "output_type": "display_data"
    }
   ],
   "source": [
    "dendrogram(linkage_matrix)"
   ]
  },
  {
   "cell_type": "code",
   "execution_count": 15,
   "metadata": {},
   "outputs": [],
   "source": [
    "plt.show()"
   ]
  }
 ],
 "metadata": {
  "kernelspec": {
   "display_name": "Python 3",
   "language": "python",
   "name": "python3"
  },
  "language_info": {
   "codemirror_mode": {
    "name": "ipython",
    "version": 3
   },
   "file_extension": ".py",
   "mimetype": "text/x-python",
   "name": "python",
   "nbconvert_exporter": "python",
   "pygments_lexer": "ipython3",
   "version": "3.6.7"
  }
 },
 "nbformat": 4,
 "nbformat_minor": 2
}
